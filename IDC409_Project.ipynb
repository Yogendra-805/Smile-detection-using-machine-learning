{
  "cells": [
    {
      "cell_type": "markdown",
      "metadata": {
        "id": "view-in-github",
        "colab_type": "text"
      },
      "source": [
        "<a href=\"https://colab.research.google.com/github/Yogendra-805/Smile-detection-using-machine-learning/blob/main/IDC409_Project.ipynb\" target=\"_parent\"><img src=\"https://colab.research.google.com/assets/colab-badge.svg\" alt=\"Open In Colab\"/></a>"
      ]
    },
    {
      "cell_type": "code",
      "execution_count": null,
      "id": "aab43e1d",
      "metadata": {
        "id": "aab43e1d"
      },
      "outputs": [],
      "source": [
        "# importing libraries.\n",
        "import os\n",
        "import random\n",
        "from imutils import paths\n",
        "import matplotlib.pyplot as plt\n",
        "import cv2\n",
        "import numpy as np\n",
        "from pylab import *\n",
        "from sklearn import metrics"
      ]
    },
    {
      "cell_type": "code",
      "source": [
        "from google.colab import drive\n",
        "drive.mount('/content/drive')"
      ],
      "metadata": {
        "colab": {
          "base_uri": "https://localhost:8080/"
        },
        "id": "43zSyOOVTyJw",
        "outputId": "d1aa2aea-c930-4ace-b9df-64fbafe27d05"
      },
      "id": "43zSyOOVTyJw",
      "execution_count": null,
      "outputs": [
        {
          "output_type": "stream",
          "name": "stdout",
          "text": [
            "Mounted at /content/drive\n"
          ]
        }
      ]
    },
    {
      "cell_type": "code",
      "execution_count": null,
      "id": "7897215b",
      "metadata": {
        "id": "7897215b"
      },
      "outputs": [],
      "source": [
        "train_folder = \"/content/drive/MyDrive/Colab Notebooks/train_folder\"\n",
        "test_folder = \"/content/drive/MyDrive/Colab Notebooks/test_folder\""
      ]
    },
    {
      "cell_type": "code",
      "execution_count": null,
      "id": "cabd3d18",
      "metadata": {
        "id": "cabd3d18"
      },
      "outputs": [],
      "source": [
        "def dataextractor(path):\n",
        "    img_height=32\n",
        "    img_width=32\n",
        "    data=[]\n",
        "    labels = []\n",
        "    imagepaths = list(paths.list_images(path))\n",
        "    for imagepath in imagepaths:\n",
        "        image = cv2.imread(imagepath)\n",
        "        image = cv2.cvtColor(image, cv2.COLOR_BGR2GRAY)\n",
        "        image = cv2.resize(image,(img_height,img_width),interpolation=cv2.INTER_AREA)\n",
        "        image = np.asarray(image, dtype=dtype)\n",
        "        label = imagepath.split(os.sep)[-2] # To find out image labels\n",
        "        label = int(label)\n",
        "        labels.append(label)\n",
        "        data.append(image)\n",
        "    return np.array(data,dtype='float')/255.0, np.array(labels)"
      ]
    },
    {
      "cell_type": "code",
      "execution_count": null,
      "id": "2a7760e1",
      "metadata": {
        "id": "2a7760e1"
      },
      "outputs": [],
      "source": [
        "# splitting the data into train and test\n",
        "train_X,train_y = dataextractor(train_folder)\n",
        "test_X,test_y = dataextractor(test_folder)"
      ]
    },
    {
      "cell_type": "code",
      "execution_count": null,
      "id": "0ece4570",
      "metadata": {
        "id": "0ece4570"
      },
      "outputs": [],
      "source": [
        "train_X = train_X.reshape(2800,1024)\n",
        "test_X = test_X.reshape(1200,1024)"
      ]
    },
    {
      "cell_type": "code",
      "execution_count": null,
      "id": "17edd36c",
      "metadata": {
        "colab": {
          "base_uri": "https://localhost:8080/"
        },
        "id": "17edd36c",
        "outputId": "abc71a1a-d00a-4d44-b7d8-1802763258f4"
      },
      "outputs": [
        {
          "output_type": "stream",
          "name": "stdout",
          "text": [
            "(2800, 1024)\n",
            "(2800,)\n",
            "(1200, 1024)\n",
            "(1200,)\n"
          ]
        }
      ],
      "source": [
        "print(train_X.shape)\n",
        "print(train_y.shape)\n",
        "print(test_X.shape)\n",
        "print(test_y.shape)"
      ]
    },
    {
      "cell_type": "markdown",
      "id": "9a41f48d",
      "metadata": {
        "id": "9a41f48d"
      },
      "source": [
        "# Training through SVM"
      ]
    },
    {
      "cell_type": "code",
      "execution_count": null,
      "id": "2a3a02b5",
      "metadata": {
        "id": "2a3a02b5"
      },
      "outputs": [],
      "source": [
        "from sklearn.svm import SVC\n",
        "\n",
        "model = SVC(kernel='linear')"
      ]
    },
    {
      "cell_type": "code",
      "execution_count": null,
      "id": "1705c139",
      "metadata": {
        "colab": {
          "base_uri": "https://localhost:8080/"
        },
        "id": "1705c139",
        "outputId": "f067c7cc-27a7-4a13-f893-310149f4affa"
      },
      "outputs": [
        {
          "output_type": "execute_result",
          "data": {
            "text/plain": [
              "SVC(kernel='linear')"
            ]
          },
          "metadata": {},
          "execution_count": 14
        }
      ],
      "source": [
        "model.fit(train_X, train_y)"
      ]
    },
    {
      "cell_type": "code",
      "execution_count": null,
      "id": "9770bf28",
      "metadata": {
        "id": "9770bf28"
      },
      "outputs": [],
      "source": [
        "from sklearn.model_selection import cross_val_score, KFold\n",
        "from sklearn import metrics"
      ]
    },
    {
      "cell_type": "code",
      "execution_count": null,
      "id": "5ca9e3fa",
      "metadata": {
        "colab": {
          "base_uri": "https://localhost:8080/"
        },
        "id": "5ca9e3fa",
        "outputId": "bb2ce164-e0a4-4dfb-af29-105c343261c8"
      },
      "outputs": [
        {
          "output_type": "stream",
          "name": "stdout",
          "text": [
            "Accuracy on training set: 0.8932142857142857\n"
          ]
        }
      ],
      "source": [
        "print(\"Accuracy on training set:\",model.score(train_X, train_y))"
      ]
    },
    {
      "cell_type": "code",
      "execution_count": null,
      "id": "7d959989",
      "metadata": {
        "colab": {
          "base_uri": "https://localhost:8080/"
        },
        "id": "7d959989",
        "outputId": "b39800ef-dc2f-42f5-d3f5-e54945353d5f"
      },
      "outputs": [
        {
          "output_type": "stream",
          "name": "stdout",
          "text": [
            "Accuracy on testing set: 0.7775\n"
          ]
        }
      ],
      "source": [
        "print (\"Accuracy on testing set:\", model.score(test_X, test_y))"
      ]
    },
    {
      "cell_type": "code",
      "execution_count": null,
      "id": "85c900c7",
      "metadata": {
        "colab": {
          "base_uri": "https://localhost:8080/"
        },
        "id": "85c900c7",
        "outputId": "7a26ef80-8624-4eb5-88ac-c2ca5b9d41d0"
      },
      "outputs": [
        {
          "output_type": "stream",
          "name": "stdout",
          "text": [
            "Classification Report:               precision    recall  f1-score   support\n",
            "\n",
            "           0       0.80      0.74      0.77       600\n",
            "           1       0.76      0.81      0.78       600\n",
            "\n",
            "    accuracy                           0.78      1200\n",
            "   macro avg       0.78      0.78      0.78      1200\n",
            "weighted avg       0.78      0.78      0.78      1200\n",
            "\n"
          ]
        }
      ],
      "source": [
        "y_pred = model.predict(test_X)\n",
        "print (\"Classification Report:\", metrics.classification_report(test_y, y_pred))"
      ]
    },
    {
      "cell_type": "code",
      "execution_count": null,
      "id": "5acd8e87",
      "metadata": {
        "colab": {
          "base_uri": "https://localhost:8080/"
        },
        "id": "5acd8e87",
        "outputId": "e4dcec1f-24dc-444f-acd2-662d08293a4c"
      },
      "outputs": [
        {
          "output_type": "stream",
          "name": "stdout",
          "text": [
            "Confusion Matrix: \n",
            " [[447 153]\n",
            " [114 486]]\n"
          ]
        }
      ],
      "source": [
        "conf_mx = metrics.confusion_matrix(test_y, y_pred)\n",
        "print (\"Confusion Matrix: \\n\",conf_mx )"
      ]
    },
    {
      "cell_type": "code",
      "execution_count": null,
      "id": "a32e635e",
      "metadata": {
        "colab": {
          "base_uri": "https://localhost:8080/",
          "height": 292
        },
        "id": "a32e635e",
        "outputId": "c02bbf2a-b8a0-4455-a4bb-9414f3051419"
      },
      "outputs": [
        {
          "output_type": "execute_result",
          "data": {
            "text/plain": [
              "<matplotlib.image.AxesImage at 0x7ff7bf85ff40>"
            ]
          },
          "metadata": {},
          "execution_count": 21
        },
        {
          "output_type": "display_data",
          "data": {
            "text/plain": [
              "<Figure size 288x288 with 1 Axes>"
            ],
            "image/png": "[encoded data removed]"
          },
          "metadata": {
            "needs_background": "light"
          }
        }
      ],
      "source": [
        "plt.matshow(conf_mx, cmap=plt.cm.gray)"
      ]
    },
    {
      "cell_type": "code",
      "execution_count": null,
      "id": "9b3ede48",
      "metadata": {
        "id": "9b3ede48",
        "outputId": "decc393c-2557-4d6b-f8e6-56201b0eec36"
      },
      "outputs": [
        {
          "name": "stdout",
          "output_type": "stream",
          "text": [
            "[1]\n"
          ]
        },
        {
          "data": {
            "text/plain": [
              "<matplotlib.image.AxesImage at 0x7f2e24046f80>"
            ]
          },
          "execution_count": 41,
          "metadata": {},
          "output_type": "execute_result"
        },
        {
          "data": {
            "image/png": "[encoded data removed]",
            "text/plain": [
              "<Figure size 432x288 with 1 Axes>"
            ]
          },
          "metadata": {
            "needs_background": "light"
          },
          "output_type": "display_data"
        }
      ],
      "source": [
        "print(model.predict(test_X[200].reshape(1,1024)))\n",
        "\n",
        "imshow((test_X[200].reshape(1,1024)).reshape(32,32))"
      ]
    },
    {
      "cell_type": "code",
      "execution_count": null,
      "id": "e8d555b2",
      "metadata": {
        "id": "e8d555b2"
      },
      "outputs": [],
      "source": []
    },
    {
      "cell_type": "markdown",
      "id": "5d61e27a",
      "metadata": {
        "id": "5d61e27a"
      },
      "source": [
        "#Training through LogisticRegression"
      ]
    },
    {
      "cell_type": "code",
      "execution_count": null,
      "id": "b5b4cc38",
      "metadata": {
        "id": "b5b4cc38"
      },
      "outputs": [],
      "source": [
        "from sklearn.linear_model import LogisticRegression"
      ]
    },
    {
      "cell_type": "code",
      "execution_count": null,
      "id": "1fdf131c",
      "metadata": {
        "id": "1fdf131c"
      },
      "outputs": [],
      "source": [
        "mod = LogisticRegression(solver='liblinear', random_state=0)"
      ]
    },
    {
      "cell_type": "code",
      "execution_count": null,
      "id": "e3a00c8a",
      "metadata": {
        "colab": {
          "base_uri": "https://localhost:8080/"
        },
        "id": "e3a00c8a",
        "outputId": "0368bcb5-36e8-4269-a9c4-370fe323e0c9"
      },
      "outputs": [
        {
          "output_type": "execute_result",
          "data": {
            "text/plain": [
              "LogisticRegression(random_state=0, solver='liblinear')"
            ]
          },
          "metadata": {},
          "execution_count": 36
        }
      ],
      "source": [
        "mod.fit(train_X, train_y)"
      ]
    },
    {
      "cell_type": "code",
      "execution_count": null,
      "id": "79bf70a4",
      "metadata": {
        "colab": {
          "base_uri": "https://localhost:8080/"
        },
        "id": "79bf70a4",
        "outputId": "eb82ff8d-ddcc-4a3b-8c08-7287afb05881"
      },
      "outputs": [
        {
          "output_type": "execute_result",
          "data": {
            "text/plain": [
              "array([0, 1])"
            ]
          },
          "metadata": {},
          "execution_count": 37
        }
      ],
      "source": [
        "mod.classes_"
      ]
    },
    {
      "cell_type": "code",
      "execution_count": null,
      "id": "cecc93da",
      "metadata": {
        "colab": {
          "base_uri": "https://localhost:8080/"
        },
        "id": "cecc93da",
        "outputId": "3195b494-5f1e-4a37-c258-56b9ccdd674d"
      },
      "outputs": [
        {
          "output_type": "execute_result",
          "data": {
            "text/plain": [
              "(array([0.04202978]),\n",
              " array([[-0.31067917,  0.50317309, -0.1298101 , ...,  0.17004653,\n",
              "         -0.64292996,  0.20108838]]))"
            ]
          },
          "metadata": {},
          "execution_count": 38
        }
      ],
      "source": [
        "mod.intercept_, mod.coef_"
      ]
    },
    {
      "cell_type": "code",
      "source": [
        "print(\"Accuracy on training set:\",mod.score(train_X, train_y))"
      ],
      "metadata": {
        "colab": {
          "base_uri": "https://localhost:8080/"
        },
        "id": "ximK8qTm3kcb",
        "outputId": "032d7234-d46e-42d4-9448-59a6314b4ace"
      },
      "id": "ximK8qTm3kcb",
      "execution_count": null,
      "outputs": [
        {
          "output_type": "stream",
          "name": "stdout",
          "text": [
            "Accuracy on training set: 0.8667857142857143\n"
          ]
        }
      ]
    },
    {
      "cell_type": "code",
      "source": [
        "print (\"Accuracy on testing set:\", mod.score(test_X, test_y))"
      ],
      "metadata": {
        "colab": {
          "base_uri": "https://localhost:8080/"
        },
        "id": "VGqvwpPj3kd1",
        "outputId": "fd4ac97e-0231-470a-b5f9-bfa2fdd91d96"
      },
      "id": "VGqvwpPj3kd1",
      "execution_count": null,
      "outputs": [
        {
          "output_type": "stream",
          "name": "stdout",
          "text": [
            "Accuracy on testing set: 0.7975\n"
          ]
        }
      ]
    },
    {
      "cell_type": "code",
      "source": [
        "# Ploting ROC Curve\n",
        "from sklearn.metrics import roc_auc_score\n",
        "from sklearn.metrics import roc_curve\n",
        "logit_roc_auc = roc_auc_score(test_y, mod.predict(test_X))\n",
        "fpr, tpr, thresholds = roc_curve(test_y, mod.predict_proba(test_X)[:,1])\n",
        "plt.figure()\n",
        "plt.plot(fpr, tpr, label='Logistic Regression (area = %0.2f)' % logit_roc_auc)\n",
        "plt.plot([0, 1], [0, 1],'r--')\n",
        "plt.xlim([0.0, 1.0])\n",
        "plt.ylim([0.0, 1.05])\n",
        "plt.xlabel('False Positive Rate')\n",
        "plt.ylabel('True Positive Rate')\n",
        "plt.title('Receiver operating characteristic')\n",
        "plt.legend(loc=\"lower right\")\n",
        "plt.show()"
      ],
      "metadata": {
        "colab": {
          "base_uri": "https://localhost:8080/",
          "height": 295
        },
        "id": "8tDw2iwO3kfw",
        "outputId": "d8dfccdb-b3b2-4709-82cc-2aa32be5a588"
      },
      "id": "8tDw2iwO3kfw",
      "execution_count": null,
      "outputs": [
        {
          "output_type": "display_data",
          "data": {
            "text/plain": [
              "<Figure size 432x288 with 1 Axes>"
            ],
            "image/png": "[encoded data removed]"
          },
          "metadata": {
            "needs_background": "light"
          }
        }
      ]
    },
    {
      "cell_type": "code",
      "source": [],
      "metadata": {
        "id": "ifTu4dGW3kiN"
      },
      "id": "ifTu4dGW3kiN",
      "execution_count": null,
      "outputs": []
    },
    {
      "cell_type": "markdown",
      "source": [
        "# Training through Random Foret Classifier"
      ],
      "metadata": {
        "id": "vHPpSXG-3lVV"
      },
      "id": "vHPpSXG-3lVV"
    },
    {
      "cell_type": "code",
      "source": [
        "from sklearn.ensemble import RandomForestClassifier"
      ],
      "metadata": {
        "id": "LI5v3sUa3klC"
      },
      "id": "LI5v3sUa3klC",
      "execution_count": null,
      "outputs": []
    },
    {
      "cell_type": "code",
      "execution_count": null,
      "id": "54f61b5c",
      "metadata": {
        "id": "54f61b5c"
      },
      "outputs": [],
      "source": [
        "clf = RandomForestClassifier(max_depth=10, random_state=0)"
      ]
    },
    {
      "cell_type": "code",
      "source": [
        "clf.fit(train_X, train_y)"
      ],
      "metadata": {
        "colab": {
          "base_uri": "https://localhost:8080/"
        },
        "id": "mhuHVVh939se",
        "outputId": "ad9e0dff-2805-49b8-d458-b04356bbfd30"
      },
      "id": "mhuHVVh939se",
      "execution_count": null,
      "outputs": [
        {
          "output_type": "execute_result",
          "data": {
            "text/plain": [
              "RandomForestClassifier(max_depth=10, random_state=0)"
            ]
          },
          "metadata": {},
          "execution_count": 25
        }
      ]
    },
    {
      "cell_type": "code",
      "source": [
        "print (\"Accuracy on testing set:\", clf.score(test_X, test_y))"
      ],
      "metadata": {
        "colab": {
          "base_uri": "https://localhost:8080/"
        },
        "id": "j60lRr_c4EED",
        "outputId": "cd6f0375-ef6e-41d0-ee88-46e8cbee8027"
      },
      "id": "j60lRr_c4EED",
      "execution_count": null,
      "outputs": [
        {
          "output_type": "stream",
          "name": "stdout",
          "text": [
            "Accuracy on testing set: 0.7525\n"
          ]
        }
      ]
    },
    {
      "cell_type": "code",
      "source": [
        "print(\"Accuracy on training set:\",clf.score(train_X, train_y))"
      ],
      "metadata": {
        "colab": {
          "base_uri": "https://localhost:8080/"
        },
        "id": "_mPYPfF53_ex",
        "outputId": "42ec2005-088c-45cf-b759-3c8ccfb1ce6e"
      },
      "id": "_mPYPfF53_ex",
      "execution_count": null,
      "outputs": [
        {
          "output_type": "stream",
          "name": "stdout",
          "text": [
            "Accuracy on training set: 0.9914285714285714\n"
          ]
        }
      ]
    },
    {
      "cell_type": "code",
      "source": [
        "print (\"Classification Report:\", metrics.classification_report(test_y, clf.predict(test_X)))"
      ],
      "metadata": {
        "colab": {
          "base_uri": "https://localhost:8080/"
        },
        "id": "8Ema6NoG4M6t",
        "outputId": "66fe19d4-2a76-450d-aa0c-98f989fa79bd"
      },
      "id": "8Ema6NoG4M6t",
      "execution_count": null,
      "outputs": [
        {
          "output_type": "stream",
          "name": "stdout",
          "text": [
            "Classification Report:               precision    recall  f1-score   support\n",
            "\n",
            "           0       0.80      0.67      0.73       600\n",
            "           1       0.72      0.83      0.77       600\n",
            "\n",
            "    accuracy                           0.75      1200\n",
            "   macro avg       0.76      0.75      0.75      1200\n",
            "weighted avg       0.76      0.75      0.75      1200\n",
            "\n"
          ]
        }
      ]
    },
    {
      "cell_type": "code",
      "source": [
        "print (\"Confusion Matrix: \\n\",metrics.confusion_matrix(test_y, clf.predict(test_X)) )"
      ],
      "metadata": {
        "colab": {
          "base_uri": "https://localhost:8080/"
        },
        "id": "irwdcE0I4W0X",
        "outputId": "50837302-a956-4cba-ba54-f3a6443573d7"
      },
      "id": "irwdcE0I4W0X",
      "execution_count": null,
      "outputs": [
        {
          "output_type": "stream",
          "name": "stdout",
          "text": [
            "Confusion Matrix: \n",
            " [[403 197]\n",
            " [100 500]]\n"
          ]
        }
      ]
    },
    {
      "cell_type": "code",
      "source": [
        "# Ploting ROC Curve\n",
        "logit_roc_auc = roc_auc_score(test_y, clf.predict(test_X))\n",
        "fpr, tpr, thresholds = roc_curve(test_y, clf.predict_proba(test_X)[:,1])\n",
        "plt.figure()\n",
        "plt.plot(fpr, tpr, label='Random Foret Classifier (area = %0.2f)' % logit_roc_auc)\n",
        "plt.plot([0, 1], [0, 1],'r--')\n",
        "plt.xlim([0.0, 1.0])\n",
        "plt.ylim([0.0, 1.05])\n",
        "plt.xlabel('False Positive Rate')\n",
        "plt.ylabel('True Positive Rate')\n",
        "plt.title('Receiver operating characteristic')\n",
        "plt.legend(loc=\"lower right\")\n",
        "plt.show()"
      ],
      "metadata": {
        "colab": {
          "base_uri": "https://localhost:8080/",
          "height": 295
        },
        "id": "xSZAtsvS4GjX",
        "outputId": "09135056-67e8-4e08-d8e1-6912b8190355"
      },
      "id": "xSZAtsvS4GjX",
      "execution_count": null,
      "outputs": [
        {
          "output_type": "display_data",
          "data": {
            "text/plain": [
              "<Figure size 432x288 with 1 Axes>"
            ],
            "image/png": "[encoded data removed]"
          },
          "metadata": {
            "needs_background": "light"
          }
        }
      ]
    },
    {
      "cell_type": "code",
      "source": [],
      "metadata": {
        "id": "Ud09QktG6IBO"
      },
      "id": "Ud09QktG6IBO",
      "execution_count": null,
      "outputs": []
    }
  ],
  "metadata": {
    "kernelspec": {
      "display_name": "Python 3 (ipykernel)",
      "language": "python",
      "name": "python3"
    },
    "language_info": {
      "codemirror_mode": {
        "name": "ipython",
        "version": 3
      },
      "file_extension": ".py",
      "mimetype": "text/x-python",
      "name": "python",
      "nbconvert_exporter": "python",
      "pygments_lexer": "ipython3",
      "version": "3.10.7"
    },
    "colab": {
      "provenance": [],
      "include_colab_link": true
    }
  },
  "nbformat": 4,
  "nbformat_minor": 5
}